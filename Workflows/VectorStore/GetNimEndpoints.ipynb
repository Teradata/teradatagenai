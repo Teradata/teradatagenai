{
 "cells": [
  {
   "cell_type": "markdown",
   "id": "10373a6f-e261-46bd-9f34-b4c0a14a37e9",
   "metadata": {},
   "source": [
    "<header>\n",
    "   <p  style='font-size:36px;font-family:Arial; color:#F0F0F0; background-color: #00233c; padding-left: 20pt; padding-top: 20pt;padding-bottom: 10pt; padding-right: 20pt;'>\n",
    "        Get Nim Endpoints\n",
    "  <br>\n",
    "       <img id=\"teradata-logo\" src=\"https://storage.googleapis.com/clearscape_analytics_demo_data/DEMO_Logo/teradata.svg\" alt=\"Teradata\" style=\"width: 125px; height: auto; margin-top: 20pt;\">\n",
    "    </p>\n",
    "</header>"
   ]
  },
  {
   "cell_type": "markdown",
   "id": "bf366132-1daa-423b-ac95-6188bf0b39c9",
   "metadata": {},
   "source": [
    "# Import required packages"
   ]
  },
  {
   "cell_type": "code",
   "execution_count": 10,
   "id": "ebfbca6a-a251-44d5-9e33-32a0d6cab53b",
   "metadata": {},
   "outputs": [],
   "source": [
    "import yaml\n",
    "import os\n",
    "import json\n",
    "import pandas as pd\n",
    "from teradataml.sdk import ClientCredentialsAuth\n",
    "from teradataml.sdk.modelops import ModelOpsClient, Projects, TrainedModels, Deployments, Jobs\n",
    "from teradataml import DataFrame, create_context\n",
    "from getpass import getpass"
   ]
  },
  {
   "cell_type": "code",
   "execution_count": 3,
   "id": "d5c2d5f4-3b25-452f-be66-06dd5b207b58",
   "metadata": {},
   "outputs": [],
   "source": [
    "def list_to_frame(d, columns):\n",
    "    df = pd.DataFrame([[l.get(column) for column in columns] for l in d], columns=columns)\n",
    "    return df"
   ]
  },
  {
   "cell_type": "markdown",
   "id": "03d888f5-d185-42df-a223-559855aba2c0",
   "metadata": {},
   "source": [
    "# Create Client object"
   ]
  },
  {
   "cell_type": "code",
   "execution_count": null,
   "id": "1f68f21c-324b-46f5-9a27-1c1d10acac36",
   "metadata": {},
   "outputs": [],
   "source": [
    "# Create ClientCredentialsAuth object to store client creds required to authenticate to ModelOps.\n",
    "cc_obj = ClientCredentialsAuth(auth_client_id=getpass(prompt=\"auth_client_id\"),\n",
    "                               auth_client_secret=getpass(prompt=\"auth_client_secret\"),\n",
    "                               auth_token_url=getpass(prompt=\"auth_token_url\"))"
   ]
  },
  {
   "cell_type": "code",
   "execution_count": 9,
   "id": "d8387266-cff9-431b-9b7b-399566301534",
   "metadata": {},
   "outputs": [
    {
     "name": "stderr",
     "output_type": "stream",
     "text": [
      "Certificate validation disabled. Adding certificate verification is strongly advised\n"
     ]
    },
    {
     "data": {
      "text/plain": [
       "<teradataml.sdk.modelops._client.ModelOpsClient at 0x1acb2117d30>"
      ]
     },
     "execution_count": 9,
     "metadata": {},
     "output_type": "execute_result"
    }
   ],
   "source": [
    "# Authenticate to Model Ops Rest Framework.\n",
    "client = ModelOpsClient(base_url=getpass(prompt=base_url), auth=cc_obj, ssl_verify=False)\n",
    "client"
   ]
  },
  {
   "cell_type": "code",
   "execution_count": null,
   "id": "50e4cc66-e044-4ab9-a98c-db3c10c80b78",
   "metadata": {},
   "outputs": [],
   "source": [
    "context=create_context(host=hostname, username=username, password=password)"
   ]
  },
  {
   "cell_type": "code",
   "execution_count": 7,
   "id": "46cc008c-a016-450f-a7f1-2a9823b88c22",
   "metadata": {},
   "outputs": [],
   "source": [
    "p = Projects(client=client)\n",
    "tr = TrainedModels(client=client)\n",
    "dep = Deployments(client=client)\n",
    "jbs = Jobs(client=client)"
   ]
  },
  {
   "cell_type": "markdown",
   "id": "d05abe87-86a0-4440-9ba3-4e58468a5792",
   "metadata": {},
   "source": [
    "# Required models."
   ]
  },
  {
   "cell_type": "code",
   "execution_count": 24,
   "id": "4e5738c3-f6f5-4f31-b856-a391ad209399",
   "metadata": {},
   "outputs": [],
   "source": [
    "# Needed models\n",
    "embed_model_external_id = \"llama-3.2-nv-embedqa-1b-v2\"\n",
    "chat_completions_model_external_id = \"mistral-7b-instruct-v0.3\""
   ]
  },
  {
   "cell_type": "markdown",
   "id": "f9991d8d-5bef-4a58-ac3f-398d274fdbd9",
   "metadata": {},
   "source": [
    "# Steps to get URL endpoint when model is already deployed."
   ]
  },
  {
   "cell_type": "markdown",
   "id": "7a94bdac-2085-4047-b45f-841e6d68ceb4",
   "metadata": {},
   "source": [
    "## Get Projects list in teradataml DataFrame."
   ]
  },
  {
   "cell_type": "code",
   "execution_count": 12,
   "id": "6e28a2fa-e035-432c-bd9a-309954a8c9d2",
   "metadata": {},
   "outputs": [
    {
     "data": {
      "application/vnd.jupyter.widget-view+json": {
       "model_id": "d1380604dc83410c9db05f47ee6f3bb9",
       "version_major": 2,
       "version_minor": 0
      },
      "text/plain": []
     },
     "metadata": {},
     "output_type": "display_data"
    },
    {
     "data": {
      "text/html": [
       "<style type=\"text/css\">\n",
       "\ttable { border:ridge 5px}\n",
       "\ttable td {border:inset 1px;}\n",
       "\ttable tr#HeaderRow {background-color:grey; color:white;}\n",
       "\t</style>\n",
       "<html><table style=\"min-width:1000px;\">\n",
       "\t<tr id=\"HeaderRow\">\n",
       "<th>id</th><th>name</th><th>description</th><th>group_id</th><th>archived</th>\n",
       "</tr>\n",
       "\t<tr>\n",
       "\t\t<td>db00b631-3a79-42bc-bb22-9b2dc662a83f</td>\n",
       "\t\t<td>Modelops test</td>\n",
       "\t\t<td>Modelops test</td>\n",
       "\t\t<td>None</td>\n",
       "\t\t<td>0</td>\n",
       "\t</tr>\n",
       "\t<tr>\n",
       "\t\t<td>e4a9e16e-d2ac-4d3a-b4b9-c03001aaab84</td>\n",
       "\t\t<td>st255077</td>\n",
       "\t\t<td>st255077 personal project</td>\n",
       "\t\t<td>None</td>\n",
       "\t\t<td>0</td>\n",
       "\t</tr>\n",
       "\t<tr>\n",
       "\t\t<td>70d4659b-92a2-4723-841a-9ba5629b5f27</td>\n",
       "\t\t<td>Demo</td>\n",
       "\t\t<td>Example ML Use Cases</td>\n",
       "\t\t<td>None</td>\n",
       "\t\t<td>0</td>\n",
       "\t</tr>\n",
       "\t<tr>\n",
       "\t\t<td>92e50b14-4572-4d2a-870c-7dcb4b86c704</td>\n",
       "\t\t<td>test new</td>\n",
       "\t\t<td>test new</td>\n",
       "\t\t<td>None</td>\n",
       "\t\t<td>0</td>\n",
       "\t</tr>\n",
       "\t<tr>\n",
       "\t\t<td>14901492-5081-4a11-8445-f42aa142ae68</td>\n",
       "\t\t<td>new project for user test user</td>\n",
       "\t\t<td>new project for user test user</td>\n",
       "\t\t<td>None</td>\n",
       "\t\t<td>1</td>\n",
       "\t</tr>\n",
       "\t<tr>\n",
       "\t\t<td>555fc04a-8905-45a1-b643-5e192024ccb3</td>\n",
       "\t\t<td>test project 1</td>\n",
       "\t\t<td>test project 1</td>\n",
       "\t\t<td>None</td>\n",
       "\t\t<td>0</td>\n",
       "\t</tr>\n",
       "\t<tr>\n",
       "\t\t<td>631fffcf-8cca-49a5-ba29-33dfeb69bca2</td>\n",
       "\t\t<td>gc255040</td>\n",
       "\t\t<td>test project</td>\n",
       "\t\t<td>None</td>\n",
       "\t\t<td>1</td>\n",
       "\t</tr>\n",
       "\t<tr>\n",
       "\t\t<td>39b0a327-7c40-4cb9-b4a4-39bc84925111</td>\n",
       "\t\t<td>Personal_git_project</td>\n",
       "\t\t<td>Personal git project</td>\n",
       "\t\t<td>None</td>\n",
       "\t\t<td>0</td>\n",
       "\t</tr>\n",
       "\t<tr>\n",
       "\t\t<td>92bd7e23-93d5-4147-a82c-1ed2668c5d94</td>\n",
       "\t\t<td>test project</td>\n",
       "\t\t<td>Test project (updated)</td>\n",
       "\t\t<td>None</td>\n",
       "\t\t<td>0</td>\n",
       "\t</tr>\n",
       "\t<tr>\n",
       "\t\t<td>21305e37-8822-4008-ad9f-381222a66350</td>\n",
       "\t\t<td>sit_test_user_1_project</td>\n",
       "\t\t<td>SA255083</td>\n",
       "\t\t<td>None</td>\n",
       "\t\t<td>0</td>\n",
       "\t</tr>\n",
       "</table></html>"
      ],
      "text/plain": [
       "                                     id                            name                     description group_id  archived\n",
       "0  db00b631-3a79-42bc-bb22-9b2dc662a83f                   Modelops test                   Modelops test     None         0\n",
       "1  e4a9e16e-d2ac-4d3a-b4b9-c03001aaab84                        st255077       st255077 personal project     None         0\n",
       "2  70d4659b-92a2-4723-841a-9ba5629b5f27                            Demo            Example ML Use Cases     None         0\n",
       "3  92e50b14-4572-4d2a-870c-7dcb4b86c704                        test new                        test new     None         0\n",
       "4  14901492-5081-4a11-8445-f42aa142ae68  new project for user test user  new project for user test user     None         1\n",
       "5  555fc04a-8905-45a1-b643-5e192024ccb3                  test project 1                  test project 1     None         0\n",
       "6  631fffcf-8cca-49a5-ba29-33dfeb69bca2                        gc255040                    test project     None         1\n",
       "7  39b0a327-7c40-4cb9-b4a4-39bc84925111            Personal_git_project            Personal git project     None         0\n",
       "8  92bd7e23-93d5-4147-a82c-1ed2668c5d94                    test project          Test project (updated)     None         0\n",
       "9  21305e37-8822-4008-ad9f-381222a66350         sit_test_user_1_project                        SA255083     None         0"
      ]
     },
     "execution_count": 12,
     "metadata": {},
     "output_type": "execute_result"
    }
   ],
   "source": [
    "from teradataml import DataFrame\n",
    "all_projects_dict = p.find_all(return_dict=True)[\"_embedded\"][\"projects\"]\n",
    "DataFrame.from_records(data=all_projects_dict, columns=[\"id\", \"name\", \"description\", \"group_id\", \"archived\"])"
   ]
  },
  {
   "cell_type": "markdown",
   "id": "02bd5aac-f05f-43f8-adc8-aace3ad135bd",
   "metadata": {},
   "source": [
    "# Use \"NIM\" project"
   ]
  },
  {
   "cell_type": "code",
   "execution_count": 14,
   "id": "7bd9b67a-f384-4e73-b3cc-f8916c39f0d3",
   "metadata": {},
   "outputs": [],
   "source": [
    "project_id = \"5b522a3a-9015-405f-b57d-b2e48ca877c4\""
   ]
  },
  {
   "cell_type": "code",
   "execution_count": 15,
   "id": "0d482ee6-decf-417b-b371-4a33c6023e14",
   "metadata": {},
   "outputs": [],
   "source": [
    "client.set_project_id(project_id=project_id)"
   ]
  },
  {
   "cell_type": "markdown",
   "id": "f3847d46-7a62-433c-af00-bcf83721bdb5",
   "metadata": {},
   "source": [
    "# List all active deployments."
   ]
  },
  {
   "cell_type": "code",
   "execution_count": null,
   "id": "5b83fdf9-6e24-4104-988e-7dcb93c66cb4",
   "metadata": {},
   "outputs": [],
   "source": [
    "current_deployments = dep.find_active(projection=\"expandDeployment\", return_dict=True)[\"_embedded\"][\"deployments\"]"
   ]
  },
  {
   "cell_type": "code",
   "execution_count": 26,
   "id": "a7b73390-79a2-4429-9d65-ae7e14b2bd44",
   "metadata": {},
   "outputs": [
    {
     "data": {
      "text/html": [
       "<div>\n",
       "<style scoped>\n",
       "    .dataframe tbody tr th:only-of-type {\n",
       "        vertical-align: middle;\n",
       "    }\n",
       "\n",
       "    .dataframe tbody tr th {\n",
       "        vertical-align: top;\n",
       "    }\n",
       "\n",
       "    .dataframe thead th {\n",
       "        text-align: right;\n",
       "    }\n",
       "</style>\n",
       "<table border=\"1\" class=\"dataframe\">\n",
       "  <thead>\n",
       "    <tr style=\"text-align: right;\">\n",
       "      <th></th>\n",
       "      <th>id</th>\n",
       "      <th>externalId</th>\n",
       "      <th>status</th>\n",
       "      <th>ownerId</th>\n",
       "      <th>projectId</th>\n",
       "      <th>baseUrl</th>\n",
       "    </tr>\n",
       "  </thead>\n",
       "  <tbody>\n",
       "    <tr>\n",
       "      <th>0</th>\n",
       "      <td>96bd9549-be12-4fdc-bbbd-dbef8a169be0</td>\n",
       "      <td>llama-3.2-nv-embedqa-1b-v2</td>\n",
       "      <td>DEPLOYED</td>\n",
       "      <td>service-account-modelops-cli</td>\n",
       "      <td>5b522a3a-9015-405f-b57d-b2e48ca877c4</td>\n",
       "      <td>https://gpudev1-modelops.labs.teradata.com/ser...</td>\n",
       "    </tr>\n",
       "    <tr>\n",
       "      <th>1</th>\n",
       "      <td>1107c851-e108-449f-bb6b-b7183ce9ffef</td>\n",
       "      <td>mistral-7b-instruct-v0.3</td>\n",
       "      <td>DEPLOYED</td>\n",
       "      <td>service-account-modelops-cli</td>\n",
       "      <td>5b522a3a-9015-405f-b57d-b2e48ca877c4</td>\n",
       "      <td>https://gpudev1-modelops.labs.teradata.com/ser...</td>\n",
       "    </tr>\n",
       "    <tr>\n",
       "      <th>2</th>\n",
       "      <td>f4900e57-ba7d-420c-ab9a-411964fbb99f</td>\n",
       "      <td>llama-3.1-8b-base</td>\n",
       "      <td>DEPLOYED</td>\n",
       "      <td>kmsadmin</td>\n",
       "      <td>5b522a3a-9015-405f-b57d-b2e48ca877c4</td>\n",
       "      <td>https://gpudev1-modelops.labs.teradata.com/ser...</td>\n",
       "    </tr>\n",
       "    <tr>\n",
       "      <th>3</th>\n",
       "      <td>c6900932-d030-4387-ac7f-dfec1c04acb4</td>\n",
       "      <td>nemotron-4-340b-reward</td>\n",
       "      <td>DEPLOYED</td>\n",
       "      <td>admin</td>\n",
       "      <td>5b522a3a-9015-405f-b57d-b2e48ca877c4</td>\n",
       "      <td>https://gpudev1-modelops.labs.teradata.com/ser...</td>\n",
       "    </tr>\n",
       "  </tbody>\n",
       "</table>\n",
       "</div>"
      ],
      "text/plain": [
       "                                     id                  externalId    status  \\\n",
       "0  96bd9549-be12-4fdc-bbbd-dbef8a169be0  llama-3.2-nv-embedqa-1b-v2  DEPLOYED   \n",
       "1  1107c851-e108-449f-bb6b-b7183ce9ffef    mistral-7b-instruct-v0.3  DEPLOYED   \n",
       "2  f4900e57-ba7d-420c-ab9a-411964fbb99f           llama-3.1-8b-base  DEPLOYED   \n",
       "3  c6900932-d030-4387-ac7f-dfec1c04acb4      nemotron-4-340b-reward  DEPLOYED   \n",
       "\n",
       "                        ownerId                             projectId  \\\n",
       "0  service-account-modelops-cli  5b522a3a-9015-405f-b57d-b2e48ca877c4   \n",
       "1  service-account-modelops-cli  5b522a3a-9015-405f-b57d-b2e48ca877c4   \n",
       "2                      kmsadmin  5b522a3a-9015-405f-b57d-b2e48ca877c4   \n",
       "3                         admin  5b522a3a-9015-405f-b57d-b2e48ca877c4   \n",
       "\n",
       "                                             baseUrl  \n",
       "0  https://gpudev1-modelops.labs.teradata.com/ser...  \n",
       "1  https://gpudev1-modelops.labs.teradata.com/ser...  \n",
       "2  https://gpudev1-modelops.labs.teradata.com/ser...  \n",
       "3  https://gpudev1-modelops.labs.teradata.com/ser...  "
      ]
     },
     "execution_count": 26,
     "metadata": {},
     "output_type": "execute_result"
    }
   ],
   "source": [
    "deployed_list = []\n",
    "for md in current_deployments:\n",
    "    model_detail = {}\n",
    "    model_detail[\"id\"] = md[\"trainedModel\"][\"id\"]\n",
    "    model_detail[\"externalId\"] = md[\"trainedModel\"][\"externalId\"]\n",
    "    model_detail[\"status\"] = md[\"status\"]\n",
    "    model_detail[\"ownerId\"] = md[\"ownerId\"]\n",
    "    model_detail[\"projectId\"] = md[\"projectId\"]\n",
    "    model_detail[\"baseUrl\"] = md[\"metadata\"][\"baseUrl\"]\n",
    "    deployed_list.append(model_detail)\n",
    "pd.DataFrame(deployed_list, columns=[\"id\", \"externalId\", \"status\", \"ownerId\", \"projectId\", \"baseUrl\"])"
   ]
  },
  {
   "cell_type": "markdown",
   "id": "c8459c75-ce4f-45f0-9355-19cc9e71e46a",
   "metadata": {},
   "source": [
    "# Get the baseUrl for the embeddings_model: llama-3.2-nv-embedqa-1b-v2 from the current active deployements."
   ]
  },
  {
   "cell_type": "code",
   "execution_count": 16,
   "id": "1953c67b-a7a0-4878-a26e-fb99284c2c9c",
   "metadata": {},
   "outputs": [
    {
     "name": "stdout",
     "output_type": "stream",
     "text": [
      "https://gpudev1-modelops.labs.teradata.com/serving/96bd9549-be12-4fdc-bbbd-dbef8a169be0/v1\n"
     ]
    }
   ],
   "source": [
    "current_deployments = dep.find_active(projection=\"expandDeployment\", return_dict=True)[\"_embedded\"][\"deployments\"]\n",
    "base_url = next((dep[\"metadata\"][\"baseUrl\"] for dep in current_deployments if dep[\"trainedModel\"]['externalId'] == embed_model_external_id), None)\n",
    "print(base_url)"
   ]
  },
  {
   "cell_type": "code",
   "execution_count": 25,
   "id": "462e8c6a-6617-415b-86e1-0f880294a4c6",
   "metadata": {},
   "outputs": [
    {
     "name": "stdout",
     "output_type": "stream",
     "text": [
      "https://gpudev1-modelops.labs.teradata.com/serving/1107c851-e108-449f-bb6b-b7183ce9ffef/v1\n"
     ]
    }
   ],
   "source": [
    "base_url = next((dep[\"metadata\"][\"baseUrl\"] for dep in current_deployments if dep[\"trainedModel\"]['externalId'] == chat_completions_model_external_id), None)\n",
    "print(base_url)"
   ]
  },
  {
   "cell_type": "markdown",
   "id": "4844dd6b-7bb7-4258-8d7b-75dc18bde90f",
   "metadata": {},
   "source": [
    "## Required models not found and need to be deployed.\n",
    "### 1. Get the list of trained models\n",
    "### 2. Get the model ids\n",
    "### 3. deploy the model ( We can retire any model if needed)"
   ]
  },
  {
   "cell_type": "markdown",
   "id": "1fdfe419-0570-40c5-8f22-5c27fec02ad8",
   "metadata": {},
   "source": [
    "### 1. Get the list of trained models"
   ]
  },
  {
   "cell_type": "code",
   "execution_count": 23,
   "id": "70471633-4ec5-45c5-8198-ef927d75a01a",
   "metadata": {},
   "outputs": [
    {
     "name": "stdout",
     "output_type": "stream",
     "text": [
      "                                      id  \\\n",
      "0   0de99f4f-509f-42cf-9251-e3c1dbf45dda   \n",
      "1   4bdef745-c753-4920-99c2-08634dad58b1   \n",
      "2   7da75adc-c497-4b17-9898-0059d8733d0f   \n",
      "3   650b7e21-ee4a-4235-9b93-bc50870cd444   \n",
      "4   9827c8a5-2f08-4bd3-8d64-fe6d217a4095   \n",
      "5   1107c851-e108-449f-bb6b-b7183ce9ffef   \n",
      "6   c03cc65f-583e-4d27-ae62-f6304bf30e33   \n",
      "7   feed36cf-1efb-44aa-b341-652d1b696a51   \n",
      "8   972b8fea-0f8c-4f95-8e11-4555f626996f   \n",
      "9   009d4526-f22f-4e3b-9d8a-c3ab78f0ca89   \n",
      "10  f1c01574-bc8a-4836-ab44-d03af8102a4d   \n",
      "11  45de5788-59b6-4faf-a10b-007521318cc9   \n",
      "12  e0d321c8-8cd9-415f-a619-42944cb9fcca   \n",
      "13  0176054d-975f-4087-992b-c7c00d11b7b3   \n",
      "14  011f3477-5785-4140-842d-6cca82177fb6   \n",
      "15  447be798-9822-4476-9ab9-348f0a03a864   \n",
      "16  012d04d3-b58e-4357-ad58-82042b13c918   \n",
      "17  8f61a030-7900-40f2-b79e-033dfb905e1f   \n",
      "18  7490af4f-b4ff-4f51-86c1-1c49cfc20c84   \n",
      "19  bb0a099a-5400-43c5-acbd-c1b2463a8897   \n",
      "20  b0da212b-baab-4729-8fd8-6215172da9f7   \n",
      "21  1234db31-658b-446f-baf3-b5340d56b1e0   \n",
      "22  da013044-63ec-4b03-b59b-fbc2f5b42574   \n",
      "23  1c30e7f5-a24d-4e23-a9ea-8a088a8c4f95   \n",
      "24  2f5abe50-7005-42ba-b963-6f1755157745   \n",
      "25  41e4072d-343e-4a62-b288-65bce51d193c   \n",
      "26  7c690cc9-ea6d-41e1-a532-cc4ad935c14f   \n",
      "27  a2aef778-fcd2-4627-a9a0-ec8d7a59f84a   \n",
      "28  dc5e800b-f3be-4937-a12f-2d25760943a7   \n",
      "29  460fae3c-9ac5-49ea-a548-013d8f3a59ce   \n",
      "30  f4900e57-ba7d-420c-ab9a-411964fbb99f   \n",
      "31  1b0560cd-cb0d-4c77-a3e3-4a9f47f9e47c   \n",
      "32  359eb993-f315-4896-826e-51fcd68fc8e0   \n",
      "33  c3324baa-0a4b-43d3-80ca-f41d8b6dc955   \n",
      "34  96bd9549-be12-4fdc-bbbd-dbef8a169be0   \n",
      "35  3465c1da-8ce7-43d9-9efa-ae9bf8612d58   \n",
      "36  215a8259-96ad-4fd0-ae57-d6aed805e59c   \n",
      "37  5a3bdaf8-29ba-4dbc-a536-2efb6c8dccc5   \n",
      "38  284a881f-9d13-406d-b1f7-375728b8fb49   \n",
      "39  e9d77e28-e2a2-46e1-8c55-0cb0934eeeab   \n",
      "40  6519cc14-b68d-4b13-878f-2a46e43a5f49   \n",
      "41  ba83dbed-9706-4e80-ab34-38e01d4c6456   \n",
      "42  c9c40c30-4c95-4799-a937-f39a613d49a2   \n",
      "43  b4db5df9-dcea-4175-85f6-c334390bd8c6   \n",
      "44  f0c767b8-1f03-4f34-9c17-7e06d1b1d0b1   \n",
      "45  7c29b453-a20e-49d3-bee9-308ba94eca8b   \n",
      "46  0b186824-9276-4ada-8942-1235cdc33f12   \n",
      "47  dacc3579-2809-4268-a7bb-ffaad7066edb   \n",
      "48  e1e6b92a-6faf-4014-866e-c56058e08c60   \n",
      "49  b92b884b-93b4-41d5-8cbd-2045a801adc1   \n",
      "50  ba998af5-b43c-4418-87f2-401ac0eb56d3   \n",
      "51  72cb293f-cabf-41f5-8071-b5725eb9f457   \n",
      "52  d18c79bd-70b5-42ef-8e81-cfb63fb619bf   \n",
      "53  c6900932-d030-4387-ac7f-dfec1c04acb4   \n",
      "54  4cb38599-f226-4ae9-af1d-4b480edc44f9   \n",
      "55  7a93cf92-11a4-44c8-8d28-285ab4175acd   \n",
      "56  82d7c331-36c3-4c66-92d9-bcaf2d1a931d   \n",
      "\n",
      "                               externalId  archived  \\\n",
      "0               nv-rerankqa-mistral-4b-v3     False   \n",
      "1            deepseek-r1-distill-qwen-32b     False   \n",
      "2               mixtral-8x7b-instruct-v01     False   \n",
      "3                                  genmol     False   \n",
      "4                     llama-3-sqlcoder-8b     False   \n",
      "5                mistral-7b-instruct-v0.3     False   \n",
      "6                             deepseek-r1     False   \n",
      "7               mistral-nemo-12b-instruct     False   \n",
      "8                       starcoderbase-15b     False   \n",
      "9                  llama-3.1-70b-instruct     False   \n",
      "10   llama-3.1-nemoguard-8b-topic-control     False   \n",
      "11        llama-3.1-nemotron-70b-instruct     False   \n",
      "12           deepseek-r1-distill-llama-8b     False   \n",
      "13                   qwen-2.5-7b-instruct     False   \n",
      "14                 codellama-34b-instruct     False   \n",
      "15    llama-3.1-swallow-70b-instruct-v0.1     False   \n",
      "16                        llama-2-7b-chat     False   \n",
      "17            deepseek-r1-distill-qwen-7b     False   \n",
      "18               nv-embedqa-mistral-7b-v2     False   \n",
      "19                       llama-2-13b-chat     False   \n",
      "20           llama-3.1-8b-instruct-pb24h2     False   \n",
      "21                 llama-3.3-70b-instruct     False   \n",
      "22                          audio2face-3d     False   \n",
      "23          llama-3.1-70b-instruct-pb24h2     False   \n",
      "24        llama-3.3-nemotron-super-49b-v1     False   \n",
      "25           deepseek-r1-distill-qwen-14b     False   \n",
      "26                  qwen-2.5-72b-instruct     False   \n",
      "27                    gemma-2-2b-instruct     False   \n",
      "28                 codellama-13b-instruct     False   \n",
      "29                     llama3-8b-instruct     False   \n",
      "30                      llama-3.1-8b-base     False   \n",
      "31                          starcoder2-7b     False   \n",
      "32                  llama-3.2-3b-instruct     False   \n",
      "33                llama-3.1-405b-instruct     False   \n",
      "34             llama-3.2-nv-embedqa-1b-v2     False   \n",
      "35                 phi-3-mini-4k-instruct     False   \n",
      "36          llama-3.1-nemotron-nano-8b-v1     False   \n",
      "37               nemotron-4-340b-instruct     False   \n",
      "38     llama-3.1-swallow-8b-instruct-v0.1     False   \n",
      "39  llama-3.1-nemoguard-8b-content-safety     False   \n",
      "40          llama-3.2-11b-vision-instruct     False   \n",
      "41                  llama-3.2-1b-instruct     False   \n",
      "42   mistral-nemo-minitron-8b-8k-instruct     False   \n",
      "43        phind-codellama-34b-v2-instruct     False   \n",
      "44            llama-3.2-nv-rerankqa-1b-v2     False   \n",
      "45                       llama-2-70b-chat     False   \n",
      "46          llama-3.2-90b-vision-instruct     False   \n",
      "47             mixtral-8x22b-instruct-v01     False   \n",
      "48      nemoretriever-graphic-elements-v1     False   \n",
      "49            llama-3-taiwan-70b-instruct     False   \n",
      "50          deepseek-r1-distill-llama-70b     False   \n",
      "51                    llama3-70b-instruct     False   \n",
      "52                  llama-3.1-8b-instruct     False   \n",
      "53                 nemotron-4-340b-reward     False   \n",
      "54                          gemma-2-9b-it     False   \n",
      "55                 codellama-70b-instruct     False   \n",
      "56      llama-3-swallow-70b-instruct-v0.1     False   \n",
      "\n",
      "                                             metadata  \n",
      "0   {'configuration': {'displayName': 'NVIDIA Retr...  \n",
      "1   {'configuration': {'displayName': 'Deepseek-R1...  \n",
      "2   {'configuration': {'displayName': 'Mixtral-8x7...  \n",
      "3   {'configuration': {'displayName': 'NVIDIA NIM ...  \n",
      "4   {'configuration': {'displayName': 'Llama-3-SQL...  \n",
      "5   {'configuration': {'displayName': 'Mistral-7B-...  \n",
      "6   {'configuration': {'displayName': 'DeepSeek-R1...  \n",
      "7   {'configuration': {'displayName': 'Mistral-Nem...  \n",
      "8   {'configuration': {'displayName': 'StarCoderBa...  \n",
      "9   {'configuration': {'displayName': 'Llama-3.1-7...  \n",
      "10  {'configuration': {'displayName': 'Llama 3.1 N...  \n",
      "11  {'configuration': {'displayName': 'Llama-3.1-N...  \n",
      "12  {'configuration': {'displayName': 'Deepseek-R1...  \n",
      "13  {'configuration': {'displayName': 'Qwen-2.5-7B...  \n",
      "14  {'configuration': {'displayName': 'CodeLlama-3...  \n",
      "15  {'configuration': {'displayName': 'Llama-3.1-S...  \n",
      "16  {'configuration': {'displayName': 'meta-llama-...  \n",
      "17  {'configuration': {'displayName': 'Deepseek-R1...  \n",
      "18  {'configuration': {'displayName': 'NVIDIA Retr...  \n",
      "19  {'configuration': {'displayName': 'meta-llama-...  \n",
      "20  {'configuration': {'displayName': 'Llama-3.1-8...  \n",
      "21  {'configuration': {'displayName': 'Llama-3.3-7...  \n",
      "22  {'configuration': {'displayName': 'Audio2Face-...  \n",
      "23  {'configuration': {'displayName': 'Llama-3.1-7...  \n",
      "24  {'configuration': {'displayName': 'Llama-3.3-N...  \n",
      "25  {'configuration': {'displayName': 'Deepseek-R1...  \n",
      "26  {'configuration': {'displayName': 'qwen-2.5-72...  \n",
      "27  {'configuration': {'displayName': 'Gemma-2-2B-...  \n",
      "28  {'configuration': {'displayName': 'CodeLlama-1...  \n",
      "29  {'configuration': {'displayName': 'Meta/Llama3...  \n",
      "30  {'configuration': {'displayName': 'Llama-3.1-8...  \n",
      "31  {'configuration': {'displayName': 'Starcoder2-...  \n",
      "32  {'configuration': {'displayName': 'Llama-3.2-3...  \n",
      "33  {'configuration': {'displayName': 'Llama-3.1-4...  \n",
      "34  {'configuration': {'displayName': 'NVIDIA Retr...  \n",
      "35  {'configuration': {'displayName': 'Phi-3-Mini-...  \n",
      "36  {'configuration': {'displayName': 'Llama-3.1-N...  \n",
      "37  {'configuration': {'displayName': 'nemotron-4-...  \n",
      "38  {'configuration': {'displayName': 'Llama-3.1-S...  \n",
      "39  {'configuration': {'displayName': 'Llama 3.1 N...  \n",
      "40  {'configuration': {'displayName': 'Llama-3.2-1...  \n",
      "41  {'configuration': {'displayName': 'Llama-3.2-1...  \n",
      "42  {'configuration': {'displayName': 'Mistral-NeM...  \n",
      "43  {'configuration': {'displayName': 'Phind-CodeL...  \n",
      "44  {'configuration': {'displayName': 'NVIDIA Retr...  \n",
      "45  {'configuration': {'displayName': 'meta-llama-...  \n",
      "46  {'configuration': {'displayName': 'Llama-3.2-9...  \n",
      "47  {'configuration': {'displayName': 'Mixtral-8x2...  \n",
      "48  {'configuration': {'displayName': 'NeMo Retrie...  \n",
      "49  {'configuration': {'displayName': 'Llama-3-Tai...  \n",
      "50  {'configuration': {'displayName': 'DeepSeek-R1...  \n",
      "51  {'configuration': {'displayName': 'Meta/Llama3...  \n",
      "52  {'configuration': {'displayName': 'llama-3.1-8...  \n",
      "53  {'configuration': {'displayName': 'Nemotron-4-...  \n",
      "54  {'configuration': {'displayName': 'Gemma-2-9B-...  \n",
      "55  {'configuration': {'displayName': 'CodeLlama-7...  \n",
      "56  {'configuration': {'displayName': 'Llama-3-Swa...  \n"
     ]
    }
   ],
   "source": [
    "all_trained_models = tr.find_all(return_dict=True, size=1000)[\"_embedded\"][\"trainedModels\"]\n",
    "all_trained_models = list_to_frame(all_trained_models, columns=[\"id\", \"externalId\", \"archived\", \"metadata\"])\n",
    "all_trained_models"
   ]
  },
  {
   "cell_type": "markdown",
   "id": "47ad88ca-d019-4a64-9a22-3c4712f0f05b",
   "metadata": {},
   "source": [
    "### Get the id for embeddings model 'llama-3.2-nv-embedqa-1b-v2'."
   ]
  },
  {
   "cell_type": "code",
   "execution_count": 25,
   "id": "e91eaeff-581c-4bba-8b0f-7e6523fd23b9",
   "metadata": {},
   "outputs": [],
   "source": [
    "model_data = all_trained_models[all_trained_models['externalId'].str.fullmatch(embed_model_external_id, na=False)]"
   ]
  },
  {
   "cell_type": "code",
   "execution_count": 26,
   "id": "4038c71c-3c23-424e-83a9-426800c709ec",
   "metadata": {},
   "outputs": [
    {
     "name": "stdout",
     "output_type": "stream",
     "text": [
      "                                      id                  externalId  \\\n",
      "34  96bd9549-be12-4fdc-bbbd-dbef8a169be0  llama-3.2-nv-embedqa-1b-v2   \n",
      "\n",
      "    archived                                           metadata  \n",
      "34     False  {'configuration': {'displayName': 'NVIDIA Retr...  \n"
     ]
    }
   ],
   "source": [
    "model_data"
   ]
  },
  {
   "cell_type": "code",
   "execution_count": 27,
   "id": "63c4baa6-4102-4e4a-b6bc-44fd206b1b79",
   "metadata": {},
   "outputs": [],
   "source": [
    "req_model_id = model_data[\"id\"].values[0]"
   ]
  },
  {
   "cell_type": "code",
   "execution_count": 28,
   "id": "83a4de7d-5db4-424a-a0a9-097921ea3f11",
   "metadata": {},
   "outputs": [
    {
     "data": {
      "text/plain": [
       "'96bd9549-be12-4fdc-bbbd-dbef8a169be0'"
      ]
     },
     "execution_count": 28,
     "metadata": {},
     "output_type": "execute_result"
    }
   ],
   "source": [
    "req_model_id"
   ]
  },
  {
   "cell_type": "markdown",
   "id": "44b562a8-c131-4633-a6ba-d17007a48beb",
   "metadata": {},
   "source": [
    "### Deploy the model."
   ]
  },
  {
   "cell_type": "code",
   "execution_count": null,
   "id": "6204d16b-1e6c-4100-a5b7-29608442a8b9",
   "metadata": {},
   "outputs": [],
   "source": [
    "#Helper function\n",
    "def deployment_request(gpu=1):\n",
    "    return {\n",
    "        \"engineType\": \"LMZ_RESTFUL\",\n",
    "        \"engineTypeConfig\":\n",
    "        {\n",
    "            \"dockerImage\": \"use_an_image_from_model_configuration\",\n",
    "            \"engine\": \"empty\",\n",
    "            \"extraConfig\":\n",
    "            { # Any custom configuration that we need in lmz_deployer.sh goes here\n",
    "                \"doStuff\": \"yes\"\n",
    "            },\n",
    "            \"replicas\": 1,\n",
    "            \"resources\":\n",
    "            {\n",
    "                \"gpu\": gpu\n",
    "            }\n",
    "        },\n",
    "        \"language\": \"LMZ\",\n",
    "        \"publishOnly\": \"false\",\n",
    "        \"customProperties\":\n",
    "        {}\n",
    "    }"
   ]
  },
  {
   "cell_type": "code",
   "execution_count": null,
   "id": "3f8f9d79-5405-42c9-a156-a7a25840584e",
   "metadata": {},
   "outputs": [],
   "source": [
    "deploy_job = tr.deploy(id=req_model_id, body=deployment_request(gpu=1), return_dict=True)"
   ]
  },
  {
   "cell_type": "code",
   "execution_count": null,
   "id": "597232e0-627b-452e-9602-4ea3195d9b2d",
   "metadata": {},
   "outputs": [],
   "source": [
    "print(f\"Client is waiting for job - {deploy_job['id']} to complete......\")\n",
    "wait_for_job_completion(deploy_job['id'])\n",
    "time.sleep(30)"
   ]
  },
  {
   "cell_type": "markdown",
   "id": "9c5bc2f1-1d1b-49af-9025-37b305fa1382",
   "metadata": {},
   "source": [
    "# Get the base URL for the deployed model"
   ]
  },
  {
   "cell_type": "code",
   "execution_count": null,
   "id": "95f29397-a871-426d-91be-ca566cdfa37a",
   "metadata": {},
   "outputs": [],
   "source": [
    "current_deployments = dep.find_active(projection=\"expandDeployment\", return_dict=True)[\"_embedded\"][\"deployments\"]\n",
    "base_url = next((dep[\"metadata\"][\"baseUrl\"] for dep in current_deployments if dep[\"trainedModel\"]['externalId'] == embed_model_external_id\n",
    "                ), None)\n",
    "print(base_url)"
   ]
  }
 ],
 "metadata": {
  "kernelspec": {
   "display_name": "Python 3 (ipykernel)",
   "language": "python",
   "name": "python3"
  },
  "language_info": {
   "codemirror_mode": {
    "name": "ipython",
    "version": 3
   },
   "file_extension": ".py",
   "mimetype": "text/x-python",
   "name": "python",
   "nbconvert_exporter": "python",
   "pygments_lexer": "ipython3",
   "version": "3.9.20"
  }
 },
 "nbformat": 4,
 "nbformat_minor": 5
}
